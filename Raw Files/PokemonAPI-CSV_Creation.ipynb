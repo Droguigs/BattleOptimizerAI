{
 "cells": [
  {
   "cell_type": "markdown",
   "id": "6c1de1fd",
   "metadata": {},
   "source": [
    "# Imports"
   ]
  },
  {
   "cell_type": "code",
   "execution_count": 1,
   "id": "ae0df66c",
   "metadata": {},
   "outputs": [],
   "source": [
    "import requests\n",
    "import pandas as pd"
   ]
  },
  {
   "cell_type": "markdown",
   "id": "16492138",
   "metadata": {},
   "source": [
    "# GETs"
   ]
  },
  {
   "cell_type": "code",
   "execution_count": 2,
   "id": "7cc0bbd5",
   "metadata": {},
   "outputs": [],
   "source": [
    "base_url = 'https://pokeapi.co/api/v2/'"
   ]
  },
  {
   "cell_type": "markdown",
   "id": "5fb757ed",
   "metadata": {},
   "source": [
    "## Empty variables"
   ]
  },
  {
   "cell_type": "code",
   "execution_count": 3,
   "id": "e685a179",
   "metadata": {},
   "outputs": [],
   "source": [
    "# Define a list of cursor characters\n",
    "cursor = ['-', '*']\n",
    "\n",
    "# Create empty variables to store 'for' data\n",
    "pokemon_df = pd.DataFrame()\n",
    "pokemon_moves_array = []\n",
    "pokemon_abilities_array = []\n",
    "moves_df = pd.DataFrame()\n",
    "abilities_df = pd.DataFrame()"
   ]
  },
  {
   "cell_type": "markdown",
   "id": "e7213caf",
   "metadata": {},
   "source": [
    "### Pokemon"
   ]
  },
  {
   "cell_type": "code",
   "execution_count": 4,
   "id": "80aa9393",
   "metadata": {},
   "outputs": [
    {
     "name": "stdout",
     "output_type": "stream",
     "text": [
      "Retrieved 1281 Pokemon\n",
      "Dropped from list 272 Pokemon\n"
     ]
    }
   ],
   "source": [
    "# The offset and limit parameters for pagination\n",
    "offset = 0\n",
    "limit = 1000\n",
    "\n",
    "# A list to store all the Pokemon data\n",
    "pokemon_list = []\n",
    "\n",
    "# Loop through the pages of the API and retrieve the data\n",
    "while True:\n",
    "    # Make a GET request to the API with the offset and limit parameters\n",
    "    response = requests.get(base_url+'pokemon', params={'offset': offset, 'limit': limit})\n",
    "    # Check if the response was successful\n",
    "    if response.status_code != 200:\n",
    "        # If not, print an error message and break out of the loop\n",
    "        print(f'Error: {response.status_code}')\n",
    "        break\n",
    "    # If the response was successful, retrieve the JSON data\n",
    "    data = response.json()\n",
    "    # Add the Pokemon data to the list\n",
    "    pokemon_list.extend(data['results'])\n",
    "    # Check if there are more pages of data to retrieve\n",
    "    if not data['next']:\n",
    "        # If not, break out of the loop\n",
    "        break\n",
    "    # If there are more pages, update the offset parameter\n",
    "    offset += limit\n",
    "\n",
    "max_size = len(pokemon_list)\n",
    "\n",
    "# Drop useless Pokemon\n",
    "for pokemon in pokemon_list[1009:]:\n",
    "    pokemon_list.remove(pokemon)\n",
    "    \n",
    "dropped = max_size - len(pokemon_list)\n",
    "\n",
    "print(f'Retrieved {max_size} Pokemon')\n",
    "print(f'Dropped from list {dropped} Pokemon')"
   ]
  },
  {
   "cell_type": "code",
   "execution_count": 5,
   "id": "12941fcd",
   "metadata": {},
   "outputs": [
    {
     "name": "stdout",
     "output_type": "stream",
     "text": [
      "Loading... Iteration 1009 of 1009: *"
     ]
    }
   ],
   "source": [
    "# Fetch Pokemon data from each url and store on dataframes\n",
    "for pokemon in pokemon_list:\n",
    "    response = requests.get(pokemon['url'])\n",
    "    pokemon_data = response.json()\n",
    "    \n",
    "    base_stats = []\n",
    "    \n",
    "    for stat in pokemon_data['stats']:\n",
    "        base_stats.append(stat['base_stat'])\n",
    "    \n",
    "    types = pokemon_data['types']\n",
    "    \n",
    "    if(len(types) > 1):\n",
    "        types = [\n",
    "            types[0]['type']['name'], \n",
    "            types[1]['type']['name']\n",
    "        ]\n",
    "    else:\n",
    "        types = [\n",
    "            types[0]['type']['name'],\n",
    "            \"NaN\"\n",
    "        ]\n",
    "    \n",
    "    df = pd.DataFrame({\n",
    "        'name': [pokemon_data['name']],\n",
    "        'hp': [base_stats[0]],\n",
    "        'attack': [base_stats[1]],\n",
    "        'defense': [base_stats[2]],\n",
    "        'special-atk': [base_stats[3]],\n",
    "        'special-defense': [base_stats[4]],\n",
    "        'speed': [base_stats[5]],\n",
    "        'type-1': [types[0]],\n",
    "        'type-2': [types[1]],\n",
    "    })\n",
    "    \n",
    "    abilities = [pokemon_data['name']]\n",
    "    moves = [pokemon_data['name']]\n",
    "    \n",
    "    for ability in pokemon_data['abilities']:\n",
    "        abilities.append(ability['ability']['name'])\n",
    "    \n",
    "    for move in pokemon_data['moves']:\n",
    "        moves.append(move['move']['name'])\n",
    "    \n",
    "    for c in cursor:\n",
    "        print(f\"\\rLoading... Iteration {pokemon_data['id']} of 1009: {c}\", end='')\n",
    "    \n",
    "    pokemon_df = pd.concat([pokemon_df, df], ignore_index=True)\n",
    "    pokemon_moves_array.append(moves)\n",
    "    pokemon_abilities_array.append(abilities)\n",
    "\n",
    "pokemon_moves_df = pd.DataFrame(pokemon_moves_array)\n",
    "pokemon_abilities_df = pd.DataFrame(pokemon_abilities_array)"
   ]
  },
  {
   "cell_type": "markdown",
   "id": "a925e828",
   "metadata": {},
   "source": [
    "### Moves"
   ]
  },
  {
   "cell_type": "code",
   "execution_count": 6,
   "id": "1e00bec3",
   "metadata": {},
   "outputs": [
    {
     "name": "stdout",
     "output_type": "stream",
     "text": [
      "Retrieved 920 moves\n"
     ]
    }
   ],
   "source": [
    "offset = 0\n",
    "moves_list = []\n",
    "\n",
    "# Loop through the pages of the API and retrieve the data\n",
    "while True:\n",
    "    # Make a GET request to the API with the offset and limit parameters\n",
    "    response = requests.get(base_url+'move', params={'offset': offset, 'limit': limit})\n",
    "    # Check if the response was successful\n",
    "    if response.status_code != 200:\n",
    "        # If not, print an error message and break out of the loop\n",
    "        print(f'Error: {response.status_code}')\n",
    "        break\n",
    "    # If the response was successful, retrieve the JSON data\n",
    "    data = response.json()\n",
    "    # Add the Pokemon data to the list\n",
    "    moves_list.extend(data['results'])\n",
    "    # Check if there are more pages of data to retrieve\n",
    "    if not data['next']:\n",
    "        # If not, break out of the loop\n",
    "        break\n",
    "    # If there are more pages, update the offset parameter\n",
    "    offset += limit\n",
    "\n",
    "print(f'Retrieved {len(moves_list)} moves')"
   ]
  },
  {
   "cell_type": "code",
   "execution_count": 7,
   "id": "64be3b10",
   "metadata": {
    "scrolled": true
   },
   "outputs": [
    {
     "name": "stdout",
     "output_type": "stream",
     "text": [
      "Loading... Iteration 10018 of 920: *"
     ]
    }
   ],
   "source": [
    "# Fetch moves data and store to dataframe\n",
    "for move in moves_list:\n",
    "    response = requests.get(move['url'])\n",
    "    move_data = response.json()\n",
    "    \n",
    "    effect_chance = move_data['effect_chance']\n",
    "    effect_entry = ''\n",
    "    \n",
    "    if(effect_chance == None):\n",
    "        effect_chance = 'NaN'\n",
    "    \n",
    "    if(len(move_data['effect_entries']) > 0):\n",
    "        effect_entry = move_data['effect_entries'][0]['effect']\n",
    "    \n",
    "    move_list = [\n",
    "        [move_data['name']],\n",
    "        [move_data['accuracy']],\n",
    "        [effect_chance],\n",
    "        [move_data['pp']],\n",
    "        [move_data['priority']],\n",
    "        [move_data['power']],\n",
    "        [move_data['damage_class']['name']],\n",
    "        [effect_entry],\n",
    "        [move_data['target']['name']],\n",
    "        [move_data['type']['name']]\n",
    "    ]\n",
    "    \n",
    "    df = pd.DataFrame({\n",
    "        'name': move_list[0],\n",
    "        'accuracy': move_list[1],\n",
    "        'effect_chance': move_list[2],\n",
    "        'pp': move_list[3],\n",
    "        'priority': move_list[4],\n",
    "        'power': move_list[5],\n",
    "        'damage_class': move_list[6],\n",
    "        'effect_text': move_list[7],\n",
    "        'target': move_list[8],\n",
    "        'type': move_list[9]\n",
    "    })\n",
    "    \n",
    "    for c in cursor:\n",
    "        print(f\"\\rLoading... Iteration {move_data['id']} of 920: {c}\", end='')\n",
    "    \n",
    "    moves_df = pd.concat([moves_df, df], ignore_index=True)"
   ]
  },
  {
   "cell_type": "markdown",
   "id": "9c9d3179",
   "metadata": {},
   "source": [
    "### Abilities"
   ]
  },
  {
   "cell_type": "code",
   "execution_count": 8,
   "id": "21aea42b",
   "metadata": {},
   "outputs": [
    {
     "name": "stdout",
     "output_type": "stream",
     "text": [
      "Retrieved 358 abilities\n"
     ]
    }
   ],
   "source": [
    "offset = 0\n",
    "abilities_list = []\n",
    "\n",
    "# Loop through the pages of the API and retrieve the data\n",
    "while True:\n",
    "    # Make a GET request to the API with the offset and limit parameters\n",
    "    response = requests.get(base_url+'ability', params={'offset': offset, 'limit': limit})\n",
    "    # Check if the response was successful\n",
    "    if response.status_code != 200:\n",
    "        # If not, print an error message and break out of the loop\n",
    "        print(f'Error: {response.status_code}')\n",
    "        break\n",
    "    # If the response was successful, retrieve the JSON data\n",
    "    data = response.json()\n",
    "    # Add the Pokemon data to the list\n",
    "    abilities_list.extend(data['results'])\n",
    "    # Check if there are more pages of data to retrieve\n",
    "    if not data['next']:\n",
    "        # If not, break out of the loop\n",
    "        break\n",
    "    # If there are more pages, update the offset parameter\n",
    "    offset += limit\n",
    "print(f'Retrieved {len(abilities_list)} abilities')"
   ]
  },
  {
   "cell_type": "code",
   "execution_count": 9,
   "id": "35be9caa",
   "metadata": {},
   "outputs": [
    {
     "name": "stdout",
     "output_type": "stream",
     "text": [
      "Loading... Iteration 10060 of 358: *"
     ]
    }
   ],
   "source": [
    "# Fetch abilities data and store to dataframe\n",
    "for ability in abilities_list:\n",
    "    response = requests.get(ability['url'])\n",
    "    ability_data = response.json()\n",
    "    \n",
    "    effect_entry = ''\n",
    "    flavor_text = ''\n",
    "    effect_name = ability_data['name']\n",
    "    \n",
    "    for effect in ability_data['effect_entries']:\n",
    "        entry = effect['effect']\n",
    "        if(effect['language']['name'] == 'en'):\n",
    "            effect_entry = 'entry'\n",
    "            \n",
    "    for effect in ability_data['flavor_text_entries']:\n",
    "        entry = effect['flavor_text']\n",
    "        if(effect['language']['name'] == 'en'):\n",
    "            if(effect['version_group']['name'] == 'sword-shield'):\n",
    "                flavor_text = 'entry'\n",
    "    \n",
    "    df = pd.DataFrame({\n",
    "        'name': [effect_entry],\n",
    "        'effect': [effect_name],\n",
    "        'flavor_text': [flavor_text]\n",
    "    })\n",
    "    \n",
    "    for c in cursor:\n",
    "        print(f\"\\rLoading... Iteration {ability_data['id']} of 358: {c}\", end='')\n",
    "    \n",
    "    abilities_df = pd.concat([abilities_df, df], ignore_index=True)"
   ]
  },
  {
   "cell_type": "code",
   "execution_count": 10,
   "id": "f4de9612",
   "metadata": {},
   "outputs": [
    {
     "name": "stdout",
     "output_type": "stream",
     "text": [
      "Pokemon df\n",
      "Pokemon abilities df\n",
      "Pokemon moves df\n",
      "Moves df\n",
      "Abilities df\n"
     ]
    },
    {
     "data": {
      "text/html": [
       "<div>\n",
       "<style scoped>\n",
       "    .dataframe tbody tr th:only-of-type {\n",
       "        vertical-align: middle;\n",
       "    }\n",
       "\n",
       "    .dataframe tbody tr th {\n",
       "        vertical-align: top;\n",
       "    }\n",
       "\n",
       "    .dataframe thead th {\n",
       "        text-align: right;\n",
       "    }\n",
       "</style>\n",
       "<table border=\"1\" class=\"dataframe\">\n",
       "  <thead>\n",
       "    <tr style=\"text-align: right;\">\n",
       "      <th></th>\n",
       "      <th>name</th>\n",
       "      <th>effect</th>\n",
       "      <th>flavor_text</th>\n",
       "    </tr>\n",
       "  </thead>\n",
       "  <tbody>\n",
       "    <tr>\n",
       "      <th>0</th>\n",
       "      <td>entry</td>\n",
       "      <td>stench</td>\n",
       "      <td>entry</td>\n",
       "    </tr>\n",
       "    <tr>\n",
       "      <th>1</th>\n",
       "      <td>entry</td>\n",
       "      <td>drizzle</td>\n",
       "      <td>entry</td>\n",
       "    </tr>\n",
       "    <tr>\n",
       "      <th>2</th>\n",
       "      <td>entry</td>\n",
       "      <td>speed-boost</td>\n",
       "      <td>entry</td>\n",
       "    </tr>\n",
       "    <tr>\n",
       "      <th>3</th>\n",
       "      <td>entry</td>\n",
       "      <td>battle-armor</td>\n",
       "      <td>entry</td>\n",
       "    </tr>\n",
       "    <tr>\n",
       "      <th>4</th>\n",
       "      <td>entry</td>\n",
       "      <td>sturdy</td>\n",
       "      <td>entry</td>\n",
       "    </tr>\n",
       "  </tbody>\n",
       "</table>\n",
       "</div>"
      ],
      "text/plain": [
       "    name        effect flavor_text\n",
       "0  entry        stench       entry\n",
       "1  entry       drizzle       entry\n",
       "2  entry   speed-boost       entry\n",
       "3  entry  battle-armor       entry\n",
       "4  entry        sturdy       entry"
      ]
     },
     "execution_count": 10,
     "metadata": {},
     "output_type": "execute_result"
    }
   ],
   "source": [
    "print('Pokemon df')\n",
    "pokemon_df.head()\n",
    "print('Pokemon abilities df')\n",
    "pokemon_abilities_df.head()\n",
    "print('Pokemon moves df')\n",
    "pokemon_moves_df.head()\n",
    "print('Moves df')\n",
    "moves_df.head()\n",
    "print('Abilities df')\n",
    "abilities_df.head()"
   ]
  },
  {
   "cell_type": "code",
   "execution_count": 11,
   "id": "60f6ff1f",
   "metadata": {},
   "outputs": [],
   "source": [
    "pokemon_df.to_csv('Pokemon/pokemon.csv')\n",
    "pokemon_abilities_df.to_csv('Pokemon/pokemon_abilities.csv')\n",
    "pokemon_moves_df.to_csv('Pokemon/pokemon_moves.csv')\n",
    "moves_df.to_csv('Pokemon/moves.csv')\n",
    "abilities_df.to_csv('Pokemon/abilities.csv')"
   ]
  }
 ],
 "metadata": {
  "kernelspec": {
   "display_name": "Python 3 (ipykernel)",
   "language": "python",
   "name": "python3"
  },
  "language_info": {
   "codemirror_mode": {
    "name": "ipython",
    "version": 3
   },
   "file_extension": ".py",
   "mimetype": "text/x-python",
   "name": "python",
   "nbconvert_exporter": "python",
   "pygments_lexer": "ipython3",
   "version": "3.9.16"
  }
 },
 "nbformat": 4,
 "nbformat_minor": 5
}
