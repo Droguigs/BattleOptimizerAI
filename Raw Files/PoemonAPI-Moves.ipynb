{
 "cells": [
  {
   "cell_type": "markdown",
   "id": "a58a03f9",
   "metadata": {},
   "source": [
    "# Imports"
   ]
  },
  {
   "cell_type": "code",
   "execution_count": 1,
   "id": "ae0df66c",
   "metadata": {},
   "outputs": [],
   "source": [
    "import requests\n",
    "import pandas as pd"
   ]
  },
  {
   "cell_type": "markdown",
   "id": "dac0a89a",
   "metadata": {},
   "source": [
    "# Configure API"
   ]
  },
  {
   "cell_type": "markdown",
   "id": "d65020fa",
   "metadata": {},
   "source": [
    "## Set the base URL for the PokeAPI"
   ]
  },
  {
   "cell_type": "code",
   "execution_count": 2,
   "id": "7cc0bbd5",
   "metadata": {},
   "outputs": [],
   "source": [
    "base_url = 'https://pokeapi.co/api/v2/'"
   ]
  },
  {
   "cell_type": "markdown",
   "id": "ad6fb38c",
   "metadata": {},
   "source": [
    "## Make a GET request to the \"move\" endpoint to retrieve a list of all moves"
   ]
  },
  {
   "cell_type": "code",
   "execution_count": 3,
   "id": "80aa9393",
   "metadata": {},
   "outputs": [],
   "source": [
    "response = requests.get(base_url + 'move')"
   ]
  },
  {
   "cell_type": "markdown",
   "id": "2d21cf88",
   "metadata": {},
   "source": [
    "## Extract the JSON data from the response"
   ]
  },
  {
   "cell_type": "code",
   "execution_count": 4,
   "id": "1953b2ec",
   "metadata": {},
   "outputs": [],
   "source": [
    "move_data = response.json()"
   ]
  },
  {
   "cell_type": "markdown",
   "id": "39dd4126",
   "metadata": {},
   "source": [
    "## Extract the list of moves from the JSON data"
   ]
  },
  {
   "cell_type": "code",
   "execution_count": 5,
   "id": "a50e417f",
   "metadata": {},
   "outputs": [],
   "source": [
    "move_list = move_data['results']"
   ]
  },
  {
   "cell_type": "code",
   "execution_count": 6,
   "id": "c4339d86",
   "metadata": {},
   "outputs": [
    {
     "data": {
      "text/plain": [
       "[{'name': 'pound', 'url': 'https://pokeapi.co/api/v2/move/1/'},\n",
       " {'name': 'karate-chop', 'url': 'https://pokeapi.co/api/v2/move/2/'},\n",
       " {'name': 'double-slap', 'url': 'https://pokeapi.co/api/v2/move/3/'},\n",
       " {'name': 'comet-punch', 'url': 'https://pokeapi.co/api/v2/move/4/'},\n",
       " {'name': 'mega-punch', 'url': 'https://pokeapi.co/api/v2/move/5/'},\n",
       " {'name': 'pay-day', 'url': 'https://pokeapi.co/api/v2/move/6/'},\n",
       " {'name': 'fire-punch', 'url': 'https://pokeapi.co/api/v2/move/7/'},\n",
       " {'name': 'ice-punch', 'url': 'https://pokeapi.co/api/v2/move/8/'},\n",
       " {'name': 'thunder-punch', 'url': 'https://pokeapi.co/api/v2/move/9/'},\n",
       " {'name': 'scratch', 'url': 'https://pokeapi.co/api/v2/move/10/'},\n",
       " {'name': 'vice-grip', 'url': 'https://pokeapi.co/api/v2/move/11/'},\n",
       " {'name': 'guillotine', 'url': 'https://pokeapi.co/api/v2/move/12/'},\n",
       " {'name': 'razor-wind', 'url': 'https://pokeapi.co/api/v2/move/13/'},\n",
       " {'name': 'swords-dance', 'url': 'https://pokeapi.co/api/v2/move/14/'},\n",
       " {'name': 'cut', 'url': 'https://pokeapi.co/api/v2/move/15/'},\n",
       " {'name': 'gust', 'url': 'https://pokeapi.co/api/v2/move/16/'},\n",
       " {'name': 'wing-attack', 'url': 'https://pokeapi.co/api/v2/move/17/'},\n",
       " {'name': 'whirlwind', 'url': 'https://pokeapi.co/api/v2/move/18/'},\n",
       " {'name': 'fly', 'url': 'https://pokeapi.co/api/v2/move/19/'},\n",
       " {'name': 'bind', 'url': 'https://pokeapi.co/api/v2/move/20/'}]"
      ]
     },
     "execution_count": 6,
     "metadata": {},
     "output_type": "execute_result"
    }
   ],
   "source": [
    "move_list"
   ]
  },
  {
   "cell_type": "markdown",
   "id": "88af9ee5",
   "metadata": {},
   "source": [
    "## Create an empty DataFrame to store the pokemon data"
   ]
  },
  {
   "cell_type": "code",
   "execution_count": 7,
   "id": "39bc62db",
   "metadata": {},
   "outputs": [],
   "source": [
    "# Create an empty DataFrame to store the Pokemon data\n",
    "move_df = pd.DataFrame()"
   ]
  },
  {
   "cell_type": "markdown",
   "id": "c86fcd8c",
   "metadata": {},
   "source": [
    "## Loop through each move in the list and retrieve its data"
   ]
  },
  {
   "cell_type": "code",
   "execution_count": 9,
   "id": "ae58bd2c",
   "metadata": {},
   "outputs": [
    {
     "name": "stderr",
     "output_type": "stream",
     "text": [
      "/var/folders/z2/ty5fbwrd3hq2h5tztl9jzys00000gn/T/ipykernel_7469/1352047043.py:4: FutureWarning: The frame.append method is deprecated and will be removed from pandas in a future version. Use pandas.concat instead.\n",
      "  move_df = move_df.append ({\n",
      "/var/folders/z2/ty5fbwrd3hq2h5tztl9jzys00000gn/T/ipykernel_7469/1352047043.py:4: FutureWarning: The frame.append method is deprecated and will be removed from pandas in a future version. Use pandas.concat instead.\n",
      "  move_df = move_df.append ({\n",
      "/var/folders/z2/ty5fbwrd3hq2h5tztl9jzys00000gn/T/ipykernel_7469/1352047043.py:4: FutureWarning: The frame.append method is deprecated and will be removed from pandas in a future version. Use pandas.concat instead.\n",
      "  move_df = move_df.append ({\n",
      "/var/folders/z2/ty5fbwrd3hq2h5tztl9jzys00000gn/T/ipykernel_7469/1352047043.py:4: FutureWarning: The frame.append method is deprecated and will be removed from pandas in a future version. Use pandas.concat instead.\n",
      "  move_df = move_df.append ({\n",
      "/var/folders/z2/ty5fbwrd3hq2h5tztl9jzys00000gn/T/ipykernel_7469/1352047043.py:4: FutureWarning: The frame.append method is deprecated and will be removed from pandas in a future version. Use pandas.concat instead.\n",
      "  move_df = move_df.append ({\n",
      "/var/folders/z2/ty5fbwrd3hq2h5tztl9jzys00000gn/T/ipykernel_7469/1352047043.py:4: FutureWarning: The frame.append method is deprecated and will be removed from pandas in a future version. Use pandas.concat instead.\n",
      "  move_df = move_df.append ({\n",
      "/var/folders/z2/ty5fbwrd3hq2h5tztl9jzys00000gn/T/ipykernel_7469/1352047043.py:4: FutureWarning: The frame.append method is deprecated and will be removed from pandas in a future version. Use pandas.concat instead.\n",
      "  move_df = move_df.append ({\n",
      "/var/folders/z2/ty5fbwrd3hq2h5tztl9jzys00000gn/T/ipykernel_7469/1352047043.py:4: FutureWarning: The frame.append method is deprecated and will be removed from pandas in a future version. Use pandas.concat instead.\n",
      "  move_df = move_df.append ({\n",
      "/var/folders/z2/ty5fbwrd3hq2h5tztl9jzys00000gn/T/ipykernel_7469/1352047043.py:4: FutureWarning: The frame.append method is deprecated and will be removed from pandas in a future version. Use pandas.concat instead.\n",
      "  move_df = move_df.append ({\n",
      "/var/folders/z2/ty5fbwrd3hq2h5tztl9jzys00000gn/T/ipykernel_7469/1352047043.py:4: FutureWarning: The frame.append method is deprecated and will be removed from pandas in a future version. Use pandas.concat instead.\n",
      "  move_df = move_df.append ({\n",
      "/var/folders/z2/ty5fbwrd3hq2h5tztl9jzys00000gn/T/ipykernel_7469/1352047043.py:4: FutureWarning: The frame.append method is deprecated and will be removed from pandas in a future version. Use pandas.concat instead.\n",
      "  move_df = move_df.append ({\n",
      "/var/folders/z2/ty5fbwrd3hq2h5tztl9jzys00000gn/T/ipykernel_7469/1352047043.py:4: FutureWarning: The frame.append method is deprecated and will be removed from pandas in a future version. Use pandas.concat instead.\n",
      "  move_df = move_df.append ({\n",
      "/var/folders/z2/ty5fbwrd3hq2h5tztl9jzys00000gn/T/ipykernel_7469/1352047043.py:4: FutureWarning: The frame.append method is deprecated and will be removed from pandas in a future version. Use pandas.concat instead.\n",
      "  move_df = move_df.append ({\n",
      "/var/folders/z2/ty5fbwrd3hq2h5tztl9jzys00000gn/T/ipykernel_7469/1352047043.py:4: FutureWarning: The frame.append method is deprecated and will be removed from pandas in a future version. Use pandas.concat instead.\n",
      "  move_df = move_df.append ({\n",
      "/var/folders/z2/ty5fbwrd3hq2h5tztl9jzys00000gn/T/ipykernel_7469/1352047043.py:4: FutureWarning: The frame.append method is deprecated and will be removed from pandas in a future version. Use pandas.concat instead.\n",
      "  move_df = move_df.append ({\n",
      "/var/folders/z2/ty5fbwrd3hq2h5tztl9jzys00000gn/T/ipykernel_7469/1352047043.py:4: FutureWarning: The frame.append method is deprecated and will be removed from pandas in a future version. Use pandas.concat instead.\n",
      "  move_df = move_df.append ({\n",
      "/var/folders/z2/ty5fbwrd3hq2h5tztl9jzys00000gn/T/ipykernel_7469/1352047043.py:4: FutureWarning: The frame.append method is deprecated and will be removed from pandas in a future version. Use pandas.concat instead.\n",
      "  move_df = move_df.append ({\n",
      "/var/folders/z2/ty5fbwrd3hq2h5tztl9jzys00000gn/T/ipykernel_7469/1352047043.py:4: FutureWarning: The frame.append method is deprecated and will be removed from pandas in a future version. Use pandas.concat instead.\n",
      "  move_df = move_df.append ({\n",
      "/var/folders/z2/ty5fbwrd3hq2h5tztl9jzys00000gn/T/ipykernel_7469/1352047043.py:4: FutureWarning: The frame.append method is deprecated and will be removed from pandas in a future version. Use pandas.concat instead.\n",
      "  move_df = move_df.append ({\n",
      "/var/folders/z2/ty5fbwrd3hq2h5tztl9jzys00000gn/T/ipykernel_7469/1352047043.py:4: FutureWarning: The frame.append method is deprecated and will be removed from pandas in a future version. Use pandas.concat instead.\n",
      "  move_df = move_df.append ({\n"
     ]
    }
   ],
   "source": [
    "for move in move_list:\n",
    "    response = requests.get(move['url'])\n",
    "    move_data = response.json()\n",
    "    move_df = move_df.append ({\n",
    "        'name': move_data['name'],\n",
    "        'accuracy': move_data['accuracy'],\n",
    "        'effect_chance': move_data['effect_chance'],\n",
    "        'pp': move_data['pp'],\n",
    "        'priority': move_data['priority'],\n",
    "        'power': move_data['power'],\n",
    "        'damage_class': move_data['damage_class']['name'],\n",
    "        'effect_entries': move_data['effect_entries'][0]['effect'],\n",
    "        'target': move_data['target']['name'],\n",
    "        'type': move_data['type']['name']\n",
    "    }, ignore_index=True)"
   ]
  },
  {
   "cell_type": "code",
   "execution_count": 10,
   "id": "5a00b6c5",
   "metadata": {},
   "outputs": [
    {
     "name": "stdout",
     "output_type": "stream",
     "text": [
      "             name accuracy effect_chance  pp  priority power damage_class  \\\n",
      "0           pound      100          None  35         0    40     physical   \n",
      "1     karate-chop      100          None  25         0    50     physical   \n",
      "2     double-slap       85          None  10         0    15     physical   \n",
      "3     comet-punch       85          None  15         0    18     physical   \n",
      "4      mega-punch       85          None  20         0    80     physical   \n",
      "5         pay-day      100          None  20         0    40     physical   \n",
      "6      fire-punch      100            10  15         0    75     physical   \n",
      "7       ice-punch      100            10  15         0    75     physical   \n",
      "8   thunder-punch      100            10  15         0    75     physical   \n",
      "9         scratch      100          None  35         0    40     physical   \n",
      "10      vice-grip      100          None  30         0    55     physical   \n",
      "11     guillotine       30          None   5         0  None     physical   \n",
      "12     razor-wind      100          None  10         0    80      special   \n",
      "13   swords-dance     None          None  20         0  None       status   \n",
      "14            cut       95          None  30         0    50     physical   \n",
      "15           gust      100          None  35         0    40      special   \n",
      "16    wing-attack      100          None  35         0    60     physical   \n",
      "17      whirlwind     None          None  20        -6  None       status   \n",
      "18            fly       95          None  15         0    90     physical   \n",
      "19           bind       85           100  20         0    15     physical   \n",
      "\n",
      "                                       effect_entries            target  \\\n",
      "0                            Inflicts regular damage.  selected-pokemon   \n",
      "1   Inflicts regular damage.  User's critical hit ...  selected-pokemon   \n",
      "2   Inflicts regular damage.  Hits 2–5 times in on...  selected-pokemon   \n",
      "3   Inflicts regular damage.  Hits 2–5 times in on...  selected-pokemon   \n",
      "4                            Inflicts regular damage.  selected-pokemon   \n",
      "5   Inflicts regular damage.  After the battle end...  selected-pokemon   \n",
      "6   Inflicts regular damage.  Has a $effect_chance...  selected-pokemon   \n",
      "7   Inflicts regular damage.  Has a $effect_chance...  selected-pokemon   \n",
      "8   Inflicts regular damage.  Has a $effect_chance...  selected-pokemon   \n",
      "9                            Inflicts regular damage.  selected-pokemon   \n",
      "10                           Inflicts regular damage.  selected-pokemon   \n",
      "11  Inflicts damage equal to the target's max HP. ...  selected-pokemon   \n",
      "12  Inflicts regular damage.  User's critical hit ...     all-opponents   \n",
      "13            Raises the user's Attack by two stages.              user   \n",
      "14                           Inflicts regular damage.  selected-pokemon   \n",
      "15  Inflicts regular damage.\\n\\nIf the target is u...  selected-pokemon   \n",
      "16                           Inflicts regular damage.  selected-pokemon   \n",
      "17  Switches the target out for another of its tra...  selected-pokemon   \n",
      "18  Inflicts regular damage.  User flies high into...  selected-pokemon   \n",
      "19  Inflicts regular damage.  For the next 2–5 tur...  selected-pokemon   \n",
      "\n",
      "        type  \n",
      "0     normal  \n",
      "1   fighting  \n",
      "2     normal  \n",
      "3     normal  \n",
      "4     normal  \n",
      "5     normal  \n",
      "6       fire  \n",
      "7        ice  \n",
      "8   electric  \n",
      "9     normal  \n",
      "10    normal  \n",
      "11    normal  \n",
      "12    normal  \n",
      "13    normal  \n",
      "14    normal  \n",
      "15    flying  \n",
      "16    flying  \n",
      "17    normal  \n",
      "18    flying  \n",
      "19    normal  \n"
     ]
    }
   ],
   "source": [
    "# Print the resulting DataFrame\n",
    "print(move_df.head(20))"
   ]
  },
  {
   "cell_type": "code",
   "execution_count": 11,
   "id": "8b0afc93",
   "metadata": {},
   "outputs": [],
   "source": [
    "move_df.to_csv('moves.csv')"
   ]
  },
  {
   "cell_type": "code",
   "execution_count": null,
   "id": "4fcb6e8a",
   "metadata": {},
   "outputs": [],
   "source": []
  }
 ],
 "metadata": {
  "kernelspec": {
   "display_name": "Python 3 (ipykernel)",
   "language": "python",
   "name": "python3"
  },
  "language_info": {
   "codemirror_mode": {
    "name": "ipython",
    "version": 3
   },
   "file_extension": ".py",
   "mimetype": "text/x-python",
   "name": "python",
   "nbconvert_exporter": "python",
   "pygments_lexer": "ipython3",
   "version": "3.9.16"
  }
 },
 "nbformat": 4,
 "nbformat_minor": 5
}
